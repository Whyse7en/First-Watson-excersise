{
 "cells": [
  {
   "cell_type": "markdown",
   "metadata": {},
   "source": [
    "<center>\n",
    "    <img src=\"https://s3-api.us-geo.objectstorage.softlayer.net/cf-courses-data/CognitiveClass/Logos/organization_logo/organization_logo.png\" width=\"300\" alt=\"cognitiveclass.ai logo\"  />\n",
    "</center>\n"
   ]
  },
  {
   "cell_type": "markdown",
   "metadata": {},
   "source": [
    "#### Add your code below following the instructions given in the course\n"
   ]
  },
  {
   "cell_type": "markdown",
   "metadata": {},
   "source": [
    "# My Jupyter Notebook on IBM Watson Studio"
   ]
  },
  {
   "cell_type": "markdown",
   "metadata": {},
   "source": [
    "**Yasin Dehghani Mohammadi**\n",
    "  Data Scientist"
   ]
  },
  {
   "cell_type": "markdown",
   "metadata": {},
   "source": [
    "*I'm Interested in Data science because it's obvious that in this digital world knowing how to work with and get insight from data gives us power. plus the money is really good!!!*"
   ]
  },
  {
   "cell_type": "markdown",
   "metadata": {},
   "source": [
    "### my code is going to display \"Hello my Peers\""
   ]
  },
  {
   "cell_type": "code",
   "execution_count": 3,
   "metadata": {},
   "outputs": [
    {
     "name": "stdout",
     "output_type": "stream",
     "text": [
      "Hello my peers\n"
     ]
    }
   ],
   "source": [
    "print('Hello my peers')"
   ]
  },
  {
   "cell_type": "markdown",
   "metadata": {},
   "source": [
    "- python\n",
    "    * pandas\n",
    "    * numpy\n",
    "    * pytorch\n",
    "- Machine Learning\n",
    "    * supervised\n",
    "    * unsupervised\n",
    "1. python\n",
    "    1. pandas\n",
    "    2. numpy\n",
    "    3. pytorch\n",
    "2. Machine Learning\n",
    "    1. supervised\n",
    "    2. unsupervised\n",
    "    \n",
    "[home page of Coursera] (https://www.coursera.org)\n",
    "\n",
    "|Name|age|score|\n",
    "|----|---|-----|\n",
    "|Yasin|28|3/5|\n",
    "|Ali|20|4/5|\n"
   ]
  },
  {
   "cell_type": "code",
   "execution_count": null,
   "metadata": {},
   "outputs": [],
   "source": []
  }
 ],
 "metadata": {
  "kernelspec": {
   "display_name": "Python",
   "language": "python",
   "name": "conda-env-python-py"
  },
  "language_info": {
   "codemirror_mode": {
    "name": "ipython",
    "version": 3
   },
   "file_extension": ".py",
   "mimetype": "text/x-python",
   "name": "python",
   "nbconvert_exporter": "python",
   "pygments_lexer": "ipython3",
   "version": "3.7.12"
  }
 },
 "nbformat": 4,
 "nbformat_minor": 4
}
